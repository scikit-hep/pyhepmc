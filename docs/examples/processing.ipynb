{
 "cells": [
  {
   "attachments": {},
   "cell_type": "markdown",
   "metadata": {},
   "source": [
    "# Processing"
   ]
  },
  {
   "cell_type": "code",
   "execution_count": 13,
   "metadata": {},
   "outputs": [
    {
     "name": "stdout",
     "output_type": "stream",
     "text": [
      "40\n"
     ]
    }
   ],
   "source": [
    "import pyhepmc\n",
    "from particle import literals as lp\n",
    "import numpy as np\n",
    "\n",
    "# pyhepmc.open can read most HepMC formats using auto-detection\n",
    "with pyhepmc.open(\"../../tests/pythia6_simple.dat\") as f:\n",
    "    event = f.read()\n",
    "\n",
    "print(len(event.particles))"
   ]
  },
  {
   "cell_type": "code",
   "execution_count": 2,
   "metadata": {},
   "outputs": [
    {
     "name": "stdout",
     "output_type": "stream",
     "text": [
      "20.5 µs ± 341 ns per loop (mean ± std. dev. of 7 runs, 1,000 loops each)\n"
     ]
    }
   ],
   "source": [
    "%%timeit -n 1000\n",
    "\n",
    "esum = 0.0\n",
    "for p in event.particles:\n",
    "    if abs(p.pid) != lp.proton.pdgid:\n",
    "        continue\n",
    "    if p.status != 1:\n",
    "        continue\n",
    "    esum += p.momentum.e"
   ]
  },
  {
   "cell_type": "code",
   "execution_count": 11,
   "metadata": {},
   "outputs": [
    {
     "data": {
      "text/plain": [
       "16.83786998168048"
      ]
     },
     "execution_count": 11,
     "metadata": {},
     "output_type": "execute_result"
    }
   ],
   "source": [
    "esum = 0.0\n",
    "for p in event.particles:\n",
    "    if abs(p.pid) != lp.proton.pdgid:\n",
    "        continue\n",
    "    if p.status != 1:\n",
    "        continue\n",
    "    esum += p.momentum.e\n",
    "esum"
   ]
  },
  {
   "cell_type": "code",
   "execution_count": 12,
   "metadata": {},
   "outputs": [
    {
     "data": {
      "text/plain": [
       "16.83786998168048"
      ]
     },
     "execution_count": 12,
     "metadata": {},
     "output_type": "execute_result"
    }
   ],
   "source": [
    "ed = pyhepmc.GenEventData()\n",
    "event.write_data(ed)\n",
    "p = ed.particles.asarray()\n",
    "ma = (np.abs(p[\"pid\"]) == lp.proton.pdgid) & (p[\"status\"] == 1)\n",
    "esum2 = np.sum(p[\"momentum\"][\"e\"][ma])\n",
    "esum2"
   ]
  },
  {
   "cell_type": "code",
   "execution_count": 22,
   "metadata": {},
   "outputs": [
    {
     "name": "stdout",
     "output_type": "stream",
     "text": [
      "6.63 ms ± 151 µs per loop (mean ± std. dev. of 7 runs, 100 loops each)\n"
     ]
    }
   ],
   "source": [
    "%%timeit -n 100\n",
    "\n",
    "event.write_data(ed)\n",
    "p = ed.particles.asarray()\n",
    "ma = (np.abs(p[\"pid\"]) == lp.proton.pdgid) & (p[\"status\"] == 1)\n",
    "esum = np.sum(p[\"momentum\"][\"e\"][ma])"
   ]
  },
  {
   "cell_type": "code",
   "execution_count": 19,
   "metadata": {},
   "outputs": [
    {
     "name": "stdout",
     "output_type": "stream",
     "text": [
      "20 µs ± 966 ns per loop (mean ± std. dev. of 7 runs, 100 loops each)\n"
     ]
    }
   ],
   "source": [
    "%%timeit -n 100\n",
    "\n",
    "esum = 0.0\n",
    "for p in event.particles:\n",
    "    if abs(p.pid) != lp.proton.pdgid:\n",
    "        continue\n",
    "    if p.status != 1:\n",
    "        continue\n",
    "    esum += p.momentum.e\n",
    "esum"
   ]
  },
  {
   "cell_type": "code",
   "execution_count": null,
   "metadata": {},
   "outputs": [],
   "source": []
  }
 ],
 "metadata": {
  "kernelspec": {
   "display_name": "venv",
   "language": "python",
   "name": "python3"
  },
  "language_info": {
   "codemirror_mode": {
    "name": "ipython",
    "version": 3
   },
   "file_extension": ".py",
   "mimetype": "text/x-python",
   "name": "python",
   "nbconvert_exporter": "python",
   "pygments_lexer": "ipython3",
   "version": "3.10.9"
  },
  "orig_nbformat": 4,
  "vscode": {
   "interpreter": {
    "hash": "2823bbbd586457dd2baf8a4897a7755406355dbefbb621fc69dbf8fa62fd6e40"
   }
  }
 },
 "nbformat": 4,
 "nbformat_minor": 2
}

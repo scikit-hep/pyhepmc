{
 "cells": [
  {
   "attachments": {},
   "cell_type": "markdown",
   "metadata": {},
   "source": [
    "# Processing\n",
    "\n",
    "In this example, we discuss different ways to process an event in Python. We compare several approaches to find the most efficient one.\n",
    "\n",
    "Processing large amounts of data in Python can be as fast as in C++ if one uses Numpy and Numba effectively, and if data structures of the underlying C++ library can be directly access as Numpy array views. Unfortunately, the internal design of the C++ HepMC3 library does not allow us to do that. Therefore, processing a GenEvent in Python cannot be as fast as in C++.\n",
    "\n",
    "pyhepmc still offers limited access to the most important properties of particles and vertices via Numpy arrays. These arrays can be used to speed up the processing of large events.\n",
    "\n",
    "We demonstrate three methods to compute the energy sum in final state protons using different APIs. We apply these methods on a comparably small event with 23 particles and a large event with 2661 particles."
   ]
  },
  {
   "cell_type": "code",
   "execution_count": 1,
   "metadata": {},
   "outputs": [
    {
     "name": "stdout",
     "output_type": "stream",
     "text": [
      "small event 23 particles\n",
      "large event 2661 particles\n"
     ]
    }
   ],
   "source": [
    "import pyhepmc as hp\n",
    "from particle import literals as lp\n",
    "import numpy as np\n",
    "from IPython.display import display\n",
    "\n",
    "with hp.open(\"../../tests/sibyll21.dat\") as f:\n",
    "    for small_event in f:\n",
    "        pass\n",
    "\n",
    "with hp.open(\"../../tests/eposlhc_large.dat\") as f:\n",
    "    for large_event in f:\n",
    "        pass\n",
    "\n",
    "print(\"small event\", len(small_event.particles), \"particles\")\n",
    "print(\"large event\", len(large_event.particles), \"particles\")"
   ]
  },
  {
   "attachments": {},
   "cell_type": "markdown",
   "metadata": {},
   "source": [
    "**Method 1**\n",
    "\n",
    "In our first method, we use the normal event API. We need to loop over particles, select those which are protons and final state (status == 1), and sum their energies."
   ]
  },
  {
   "cell_type": "code",
   "execution_count": 2,
   "metadata": {},
   "outputs": [
    {
     "data": {
      "text/plain": [
       "8546.505081295967"
      ]
     },
     "execution_count": 2,
     "metadata": {},
     "output_type": "execute_result"
    }
   ],
   "source": [
    "def sum_energy_of_protons_1(event):\n",
    "    esum = 0.0\n",
    "    for p in event.particles:\n",
    "        if abs(p.pid) != lp.proton.pdgid:\n",
    "            continue\n",
    "        if p.status != 1:\n",
    "            continue\n",
    "        esum += p.momentum.e\n",
    "    return esum\n",
    "\n",
    "sum_energy_of_protons_1(large_event)"
   ]
  },
  {
   "attachments": {},
   "cell_type": "markdown",
   "metadata": {},
   "source": [
    "**Method 2**\n",
    "\n",
    "HepMC3 supports an alternative in-memory representation to the GenEvent, the GenEventData object. This object allows us to view its memory as a Numpy array. It can be used also to manipulate the internal state. The number of particles cannot be changed with this API, since the GenEventData object is not designed to support safe and consistent modification of GenEvent data.\n",
    "\n",
    "We allocate one GenEventData object, write the data from the GenEvent into it, and use views in form of Numpy arrays into its memory to select and sum the particles of interest using fast Numpy functions."
   ]
  },
  {
   "cell_type": "code",
   "execution_count": 3,
   "metadata": {},
   "outputs": [
    {
     "data": {
      "text/plain": [
       "8546.505081295967"
      ]
     },
     "execution_count": 3,
     "metadata": {},
     "output_type": "execute_result"
    }
   ],
   "source": [
    "event_data = hp.GenEventData()\n",
    "\n",
    "\n",
    "def sum_energy_of_protons_2(event):\n",
    "    event.write_data(event_data)\n",
    "    p = event_data.particles\n",
    "    ma = (np.abs(p[\"pid\"]) == lp.proton.pdgid)\n",
    "    ma &= p[\"status\"] == 1\n",
    "    e = p[\"e\"]\n",
    "    return np.sum(e[ma])\n",
    "\n",
    "\n",
    "sum_energy_of_protons_2(large_event)"
   ]
  },
  {
   "attachments": {},
   "cell_type": "markdown",
   "metadata": {},
   "source": [
    "**Method 3**\n",
    "\n",
    "The caveat of the previous method is that we have to convert the GenEvent into a GenEventData object, which is not cheap. An additional interface was added to the GenEvent for read-only access to the most important vertex and particles properties in form of Numpy arrays. These arrays cannot be used to manipulate the GenEvent."
   ]
  },
  {
   "cell_type": "code",
   "execution_count": 4,
   "metadata": {},
   "outputs": [
    {
     "data": {
      "text/plain": [
       "8546.505081295967"
      ]
     },
     "execution_count": 4,
     "metadata": {},
     "output_type": "execute_result"
    }
   ],
   "source": [
    "def sum_energy_of_protons_3(event):\n",
    "    ma = np.abs(event.np_particles_pdg_id()) == lp.proton.pdgid\n",
    "    ma &= event.np_particles_status() == 1\n",
    "    e = event.np_particles_momentum_e()\n",
    "    return np.sum(e[ma])\n",
    "\n",
    "sum_energy_of_protons_3(large_event)"
   ]
  },
  {
   "attachments": {},
   "cell_type": "markdown",
   "metadata": {},
   "source": [
    "To provide a baseline of the fastest possible speed, the function `sum_energy_of_protons` was also implemented in C++."
   ]
  },
  {
   "cell_type": "code",
   "execution_count": 5,
   "metadata": {},
   "outputs": [],
   "source": [
    "from pyhepmc._core import _sum_energy_of_protons as sum_energy_of_protons_0"
   ]
  },
  {
   "attachments": {},
   "cell_type": "markdown",
   "metadata": {},
   "source": [
    "Let's benchmark all methods and compare their speed."
   ]
  },
  {
   "cell_type": "code",
   "execution_count": 6,
   "metadata": {},
   "outputs": [
    {
     "name": "stdout",
     "output_type": "stream",
     "text": [
      "235 ns ± 168 ns per loop (mean ± std. dev. of 7 runs, 10 loops each)\n",
      "3.72 µs ± 616 ns per loop (mean ± std. dev. of 7 runs, 10 loops each)\n",
      "14.1 µs ± 1.12 µs per loop (mean ± std. dev. of 7 runs, 10 loops each)\n",
      "1.25 ms ± 26.4 µs per loop (mean ± std. dev. of 7 runs, 10 loops each)\n",
      "The slowest run took 7.68 times longer than the fastest. This could mean that an intermediate result is being cached.\n",
      "30.5 µs ± 33.6 µs per loop (mean ± std. dev. of 7 runs, 10 loops each)\n",
      "408 µs ± 198 µs per loop (mean ± std. dev. of 7 runs, 10 loops each)\n",
      "5.95 µs ± 1.08 µs per loop (mean ± std. dev. of 7 runs, 10 loops each)\n",
      "17.7 µs ± 883 ns per loop (mean ± std. dev. of 7 runs, 10 loops each)\n"
     ]
    }
   ],
   "source": [
    "t0a = %timeit -n 10 -o sum_energy_of_protons_0(small_event)\n",
    "t0b = %timeit -n 10 -o sum_energy_of_protons_0(large_event)\n",
    "\n",
    "t1a = %timeit -n 10 -o sum_energy_of_protons_1(small_event)\n",
    "t1b = %timeit -n 10 -o sum_energy_of_protons_1(large_event)\n",
    "\n",
    "t2a = %timeit -n 10 -o sum_energy_of_protons_2(small_event)\n",
    "t2b = %timeit -n 10 -o sum_energy_of_protons_2(large_event)\n",
    "\n",
    "t3a = %timeit -n 10 -o sum_energy_of_protons_3(small_event)\n",
    "t3b = %timeit -n 10 -o sum_energy_of_protons_3(large_event)"
   ]
  },
  {
   "cell_type": "code",
   "execution_count": 7,
   "metadata": {},
   "outputs": [
    {
     "data": {
      "image/png": "[encoded data removed]",
      "text/plain": [
       "<Figure size 800x200 with 2 Axes>"
      ]
     },
     "metadata": {},
     "output_type": "display_data"
    }
   ],
   "source": [
    "from matplotlib import pyplot as plt\n",
    "\n",
    "fig, ax = plt.subplots(1, 2, figsize=(8, 2), sharex=True, constrained_layout=True)\n",
    "labels = [\"C++\", \"Method 1\", \"Method 2\", \"Method 3\"]\n",
    "colors = [\"C3\"] + [\"C0\"]*3\n",
    "ax[0].barh(labels, [t.best * 1e6 for t in [t0a, t1a, t2a, t3a]], color=colors)\n",
    "ax[1].barh(labels, [t.best * 1e6 for t in [t0b, t1b, t2b, t3b]], color=colors)\n",
    "fig.supxlabel(\"run time / µs (smaller is better)\")\n",
    "plt.semilogx();"
   ]
  },
  {
   "cell_type": "code",
   "execution_count": 8,
   "metadata": {},
   "outputs": [
    {
     "data": {
      "text/plain": [
       "(32.89876773176673, 5.34263048729356, 2.4263710227111877, 71.82603773768358)"
      ]
     },
     "execution_count": 8,
     "metadata": {},
     "output_type": "execute_result"
    }
   ],
   "source": [
    "t3a.best / t0a.best, t3b.best / t0b.best, t1a.best / t3a.best, t1b.best / t3b.best, "
   ]
  },
  {
   "attachments": {},
   "cell_type": "markdown",
   "metadata": {},
   "source": [
    "Method 3 is the fastest Python method for read-only processing of both small and large events. In case of large (small) events, it is 70x (2x) faster than the straight-forward API.\n",
    "\n",
    "With the fastest method, processing in Python is a factor 6 to 36 slower than doing the work in C++."
   ]
  }
 ],
 "metadata": {
  "kernelspec": {
   "display_name": "venv",
   "language": "python",
   "name": "python3"
  },
  "language_info": {
   "codemirror_mode": {
    "name": "ipython",
    "version": 3
   },
   "file_extension": ".py",
   "mimetype": "text/x-python",
   "name": "python",
   "nbconvert_exporter": "python",
   "pygments_lexer": "ipython3",
   "version": "3.10.9"
  },
  "orig_nbformat": 4,
  "vscode": {
   "interpreter": {
    "hash": "2823bbbd586457dd2baf8a4897a7755406355dbefbb621fc69dbf8fa62fd6e40"
   }
  }
 },
 "nbformat": 4,
 "nbformat_minor": 2
}

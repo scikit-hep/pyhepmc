{
 "cells": [
  {
   "attachments": {},
   "cell_type": "markdown",
   "metadata": {},
   "source": [
    "# Processing\n",
    "\n",
    "In this example, we discuss different ways to process an event in Python. We compare several approaches to find the most efficient one.\n",
    "\n",
    "Processing large amounts of data in Python can be as fast as in C++ if one uses Numpy and Numba effectively, and if data structures of the underlying C++ library can be directly access as Numpy array views. Unfortunately, the internal design of the C++ HepMC3 library does not allow us to do that. Therefore, processing a GenEvent in Python cannot be as fast as in C++.\n",
    "\n",
    "That being said, pyhepmc offers special methods that allow at least fast read-only access to the most important properties of particles and vertices via Numpy arrays. These Numpy arrays are not views, however, they are created from scratch and are filled internally with fast C++ loops. We will see that this still speeds up the processing of large events.\n",
    "\n",
    "We demonstrate three methods to compute the energy sum in final state protons. We apply these methods on a comparably small event with 23 particles and a large event with 2661 particles."
   ]
  },
  {
   "cell_type": "code",
   "execution_count": 1,
   "metadata": {},
   "outputs": [
    {
     "name": "stdout",
     "output_type": "stream",
     "text": [
      "small event 23 particles\n",
      "large event 2661 particles\n"
     ]
    }
   ],
   "source": [
    "import pyhepmc as hp\n",
    "from particle import literals as lp\n",
    "import numpy as np\n",
    "from IPython.display import display\n",
    "\n",
    "with hp.open(\"../../tests/sibyll21.dat\") as f:\n",
    "    for small_event in f:\n",
    "        pass\n",
    "\n",
    "with hp.open(\"../../tests/eposlhc_large.dat\") as f:\n",
    "    for large_event in f:\n",
    "        pass\n",
    "\n",
    "print(\"small event\", len(small_event.particles), \"particles\")\n",
    "print(\"large event\", len(large_event.particles), \"particles\")"
   ]
  },
  {
   "attachments": {},
   "cell_type": "markdown",
   "metadata": {},
   "source": [
    "**Method 1**\n",
    "\n",
    "In our first method, we use the normal event API. We need to loop over particles, select those which are protons and final state (status == 1), and sum their energies."
   ]
  },
  {
   "cell_type": "code",
   "execution_count": 2,
   "metadata": {},
   "outputs": [
    {
     "data": {
      "text/plain": [
       "8546.505081295967"
      ]
     },
     "execution_count": 2,
     "metadata": {},
     "output_type": "execute_result"
    }
   ],
   "source": [
    "def sum_energy_of_protons_1(event):\n",
    "    esum = 0.0\n",
    "    for p in event.particles:\n",
    "        if abs(p.pid) != lp.proton.pdgid:\n",
    "            continue\n",
    "        if p.status != 1:\n",
    "            continue\n",
    "        esum += p.momentum.e\n",
    "    return esum\n",
    "\n",
    "sum_energy_of_protons_1(large_event)"
   ]
  },
  {
   "attachments": {},
   "cell_type": "markdown",
   "metadata": {},
   "source": [
    "**Method 2**\n",
    "\n",
    "As already mentioned, the internal structure of the GenEvent cannot be viewed as Numpy arrays. However, HepMC3 supports an alternative in-memory representation, the GenEventData object. This object allows us to view its memory as a Numpy array. This can be used also to manipulate the internal state, as long as the number of particles is not changed.\n",
    "\n",
    "We allocate one GenEventData object and write the data from the GenEvent into it. Then we use views in form of Numpy arrays into its memory to select and sum the particles of interest using fast Numpy functions."
   ]
  },
  {
   "cell_type": "code",
   "execution_count": 3,
   "metadata": {},
   "outputs": [
    {
     "data": {
      "text/plain": [
       "8546.505081295967"
      ]
     },
     "execution_count": 3,
     "metadata": {},
     "output_type": "execute_result"
    }
   ],
   "source": [
    "event_data = hp.GenEventData()\n",
    "\n",
    "\n",
    "def sum_energy_of_protons_2(event):\n",
    "    event.write_data(event_data)\n",
    "    p = event_data.particles\n",
    "    ma = (np.abs(p[\"pid\"]) == lp.proton.pdgid)\n",
    "    ma &= p[\"status\"] == 1\n",
    "    e = p[\"e\"]\n",
    "    return np.sum(e[ma])\n",
    "\n",
    "\n",
    "sum_energy_of_protons_2(large_event)"
   ]
  },
  {
   "attachments": {},
   "cell_type": "markdown",
   "metadata": {},
   "source": [
    "**Method 3**\n",
    "\n",
    "The caveat of the previous method is that we have to convert the GenEvent into a GenEventData object, which is not cheap. Therefore, an additional interface was added to the GenEvent, which provides readonly access to important vertex and particles properties in form of Numpy arrays. These arrays are not views into the GenEvent object, and therefore cannot be used to manipulate the GenEvent."
   ]
  },
  {
   "cell_type": "code",
   "execution_count": 4,
   "metadata": {},
   "outputs": [
    {
     "data": {
      "text/plain": [
       "8546.505081295967"
      ]
     },
     "execution_count": 4,
     "metadata": {},
     "output_type": "execute_result"
    }
   ],
   "source": [
    "def sum_energy_of_protons_3(event):\n",
    "    ma = np.abs(event.np_particles_pdg_id()) == lp.proton.pdgid\n",
    "    ma &= event.np_particles_status() == 1\n",
    "    e = event.np_particles_momentum_e()\n",
    "    return np.sum(e[ma])\n",
    "\n",
    "sum_energy_of_protons_3(large_event)"
   ]
  },
  {
   "attachments": {},
   "cell_type": "markdown",
   "metadata": {},
   "source": [
    "Let's benchmark the methods and compare their speed."
   ]
  },
  {
   "cell_type": "code",
   "execution_count": 5,
   "metadata": {},
   "outputs": [
    {
     "name": "stdout",
     "output_type": "stream",
     "text": [
      "14.7 µs ± 1.61 µs per loop (mean ± std. dev. of 7 runs, 10 loops each)\n",
      "1.32 ms ± 65.1 µs per loop (mean ± std. dev. of 7 runs, 10 loops each)\n",
      "The slowest run took 4.37 times longer than the fastest. This could mean that an intermediate result is being cached.\n",
      "26.3 µs ± 18.6 µs per loop (mean ± std. dev. of 7 runs, 10 loops each)\n",
      "The slowest run took 4.61 times longer than the fastest. This could mean that an intermediate result is being cached.\n",
      "428 µs ± 212 µs per loop (mean ± std. dev. of 7 runs, 10 loops each)\n",
      "6.03 µs ± 1.06 µs per loop (mean ± std. dev. of 7 runs, 10 loops each)\n",
      "18 µs ± 720 ns per loop (mean ± std. dev. of 7 runs, 10 loops each)\n"
     ]
    }
   ],
   "source": [
    "t1a = %timeit -n 10 -o sum_energy_of_protons_1(small_event)\n",
    "t1b = %timeit -n 10 -o sum_energy_of_protons_1(large_event)\n",
    "\n",
    "t2a = %timeit -n 10 -o sum_energy_of_protons_2(small_event)\n",
    "t2b = %timeit -n 10 -o sum_energy_of_protons_2(large_event)\n",
    "\n",
    "t3a = %timeit -n 10 -o sum_energy_of_protons_3(small_event)\n",
    "t3b = %timeit -n 10 -o sum_energy_of_protons_3(large_event)"
   ]
  },
  {
   "cell_type": "code",
   "execution_count": 6,
   "metadata": {},
   "outputs": [
    {
     "data": {
      "image/png": "[encoded data removed]",
      "text/plain": [
       "<Figure size 600x200 with 2 Axes>"
      ]
     },
     "metadata": {},
     "output_type": "display_data"
    }
   ],
   "source": [
    "from matplotlib import pyplot as plt\n",
    "\n",
    "fig, ax = plt.subplots(1, 2, figsize=(6, 2), sharex=True, constrained_layout=True)\n",
    "ax[0].barh([\"1\", \"2\", \"3\"], [t.best for t in [t1a, t2a, t3a]])\n",
    "ax[1].barh([\"1\", \"2\", \"3\"], [t.best for t in [t1b, t2b, t3b]])\n",
    "fig.supxlabel(\"run time / sec (smaller is better)\")\n",
    "plt.semilogx();"
   ]
  },
  {
   "cell_type": "code",
   "execution_count": 7,
   "metadata": {},
   "outputs": [
    {
     "data": {
      "text/plain": [
       "(2.4325594721343187, 70.63575796056466)"
      ]
     },
     "execution_count": 7,
     "metadata": {},
     "output_type": "execute_result"
    }
   ],
   "source": [
    "t1a.best / t3a.best, t1b.best / t3b.best"
   ]
  },
  {
   "attachments": {},
   "cell_type": "markdown",
   "metadata": {},
   "source": [
    "Method 3 is the fastest method for read-only processing of events for both large and small events. In case of large (small) events, it is 70x (2x) faster."
   ]
  }
 ],
 "metadata": {
  "kernelspec": {
   "display_name": "venv",
   "language": "python",
   "name": "python3"
  },
  "language_info": {
   "codemirror_mode": {
    "name": "ipython",
    "version": 3
   },
   "file_extension": ".py",
   "mimetype": "text/x-python",
   "name": "python",
   "nbconvert_exporter": "python",
   "pygments_lexer": "ipython3",
   "version": "3.10.9"
  },
  "orig_nbformat": 4,
  "vscode": {
   "interpreter": {
    "hash": "2823bbbd586457dd2baf8a4897a7755406355dbefbb621fc69dbf8fa62fd6e40"
   }
  }
 },
 "nbformat": 4,
 "nbformat_minor": 2
}

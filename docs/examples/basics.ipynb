{
  "cells" : [
    {
      "cell_type" : "markdown",
      "metadata" : {},
      "source" : [
        "# Basic IO, event inspection, and visualization\n", "\n",
        "We load an event from a file using `pyhepmc.open` and demonstrate how it "
        "renders in Jupyter (this requires graphviz)."
      ]
    },
    {
      "cell_type" : "code",
      "execution_count" : 1,
      "metadata" : {},
      "outputs" : [ {
        "data" : {
          "text/html" : ["SVG view not available: command `dot` cannot be found, "
                         "please install graphviz"],
          "text/plain" : ["<GenEvent momentum_unit=1, length_unit=0, event_number=0, "
                          "particles=40, vertices=19, run_info=GenRunInfo(tools=[], "
                          "weight_names=[], attributes={})>"]
        },
        "execution_count" : 1,
        "metadata" : {},
        "output_type" : "execute_result"
      } ],
      "source" : [
        "import pyhepmc\n", "\n",
        "# pyhepmc.open can read most HepMC formats using auto-detection\n",
        "with pyhepmc.open(\"../../tests/pythia6_simple.dat\") as f:\n",
        "    event = f.read()\n", "\n", "event"
      ]
    },
    {
      "cell_type" : "markdown",
      "metadata" : {},
      "source" : ["The rendered SVG has tooltips that provide extra information on "
                  "each particle and vertex."]
    },
    {
      "cell_type" : "markdown",
      "metadata" : {},
      "source" : ["Not all events have beam particles. The Sibyll-2.1 stack does not "
                  "contain them."]
    },
    {
      "cell_type" : "code",
      "execution_count" : 2,
      "metadata" : {},
      "outputs" : [ {
        "data" : {
          "text/html" : ["SVG view not available: command `dot` cannot be found, "
                         "please install graphviz"],
          "text/plain" :
              ["<GenEvent momentum_unit=1, length_unit=0, event_number=0, "
               "particles=23, vertices=7, "
               "run_info=GenRunInfo(tools=[ToolInfo(name='SIBYLL', version='2.1', "
               "description='')], weight_names=[], attributes={})>"]
        },
        "execution_count" : 2,
        "metadata" : {},
        "output_type" : "execute_result"
      } ],
      "source" : [
        "with pyhepmc.open(\"../../tests/sibyll21.dat\") as f:\n",
        "    event = f.read()\n", "    \n", "event"
      ]
    },
    {
      "cell_type" : "markdown",
      "metadata" : {},
      "source" : ["`pyhepmc.open` also supports iteration like the built-in `open`. "
                  "This is the default way to read many events from a file. This file "
                  "only contains one event, however."]
    },
    {
      "cell_type" : "code",
      "execution_count" : 3,
      "metadata" : {},
      "outputs" : [ {
        "name" : "stdout",
        "output_type" : "stream",
        "text" : [
          "________________________________________________________________________\n",
          "GenEvent: #0\n",
          " Momentum units: GEV Position units: MM\n",
          " Entries in this event: 7 vertices, 23 particles, 0 weights.\n",
          " Position offset: 0, 0, 0, 0\n",
          "                                    GenParticle Legend\n",
          "         ID    PDG ID   ( px,       py,       pz,     E )   Stat ProdVtx\n",
          "________________________________________________________________________\n",
          "Vtx:     -1 stat:   0 (X,cT): 0\n",
          " I:       1     2224 -8.92e-02,+1.35e-01,+2.03e+00,+2.38e+00   2     0\n",
          " O:       8     2212 -1.10e-01,+9.29e-02,+1.17e+00,+1.51e+00   1    -1\n",
          "          9      211 +2.11e-02,+4.21e-02,+8.64e-01,+8.76e-01   1    -1\n",
          "Vtx:     -2 stat:   0 (X,cT): 0\n",
          " I:       2      111 +8.95e-02,-4.49e-01,+3.42e+00,+3.45e+00   2     0\n",
          " O:      10       22 -1.59e-02,-2.60e-01,+1.94e+00,+1.96e+00   1    -2\n",
          "         11       22 +1.05e-01,-1.89e-01,+1.48e+00,+1.49e+00   1    -2\n",
          "Vtx:     -3 stat:   0 (X,cT): 0\n",
          " I:       3      331 +1.50e-01,+4.60e-01,+2.04e+00,+2.31e+00   2     0\n",
          " O:      12      211 +1.30e-02,+9.59e-02,+2.26e-01,+2.83e-01   1    -3\n",
          "         13     -211 +9.56e-02,+6.02e-02,+1.22e-01,+2.18e-01   1    -3\n",
          "         14      221 +4.13e-02,+3.04e-01,+1.69e+00,+1.81e+00   2    -3\n",
          "Vtx:     -4 stat:   0 (X,cT): 0\n",
          " I:       4      221 -1.62e-01,-2.44e-01,+1.95e+00,+2.05e+00   2     0\n",
          " O:      15       22 -1.35e-01,+4.44e-02,+1.53e+00,+1.54e+00   1    -4\n",
          "         16       22 -2.70e-02,-2.89e-01,+4.21e-01,+5.12e-01   1    -4\n",
          "Vtx:     -5 stat:   0 (X,cT): 0\n",
          " I:       6      111 -2.49e-02,+3.66e-01,-1.89e+00,+1.93e+00   2     0\n",
          " O:      17       22 -4.50e-02,+2.62e-01,-1.59e+00,+1.61e+00   1    -5\n",
          "         18       22 +2.01e-02,+1.04e-01,-3.07e-01,+3.25e-01   1    -5\n",
          "Vtx:     -6 stat:   0 (X,cT): 0\n",
          " I:      14      221 +4.13e-02,+3.04e-01,+1.69e+00,+1.81e+00   2    -3\n",
          " O:      19      211 +1.62e-02,+1.12e-01,+3.07e-01,+3.57e-01   1    -6\n",
          "         20     -211 -5.02e-02,+7.78e-02,+2.68e-01,+3.17e-01   1    -6\n",
          "         21      111 +7.53e-02,+1.14e-01,+1.11e+00,+1.13e+00   2    -6\n",
          "Vtx:     -7 stat:   0 (X,cT): 0\n",
          " I:      21      111 +7.53e-02,+1.14e-01,+1.11e+00,+1.13e+00   2    -6\n",
          " O:      22       22 +6.89e-02,-3.50e-03,+5.46e-01,+5.51e-01   1    -7\n",
          "         23       22 +6.39e-03,+1.18e-01,+5.69e-01,+5.82e-01   1    -7\n",
          "________________________________________________________________________\n",
          "\n"
        ]
      } ],
      "source" : [
        "with pyhepmc.open(\"../../tests/sibyll21.dat\") as f:\n",
        "    for event in f:\n", "        print(event)"
      ]
    },
    {
      "attachments" : {},
      "cell_type" : "markdown",
      "metadata" : {},
      "source" : ["Coming back to visualization: you can customize it with "
                  "`pyhepmc.view.to_dot`."]
    },
    {
      "cell_type" : "code",
      "execution_count" : 4,
      "metadata" : {},
      "outputs" : [ {
        "data" : {
          "image/png" :
              "PNGviewnotavailablecommanddotcannotbefoundpleaseinstallgraphviw=",
          "image/svg+xml" : ["SVG view not available: command `dot` cannot be found, "
                             "please install graphviz"],
          "text/html" : ["SVG view not available: command `dot` cannot be found, "
                         "please install graphviz"],
          "text/plain" :
              ["Digraph(name='SIBYLL-2.1\\nevent number = 0', "
               "graph_attr=Block(rankdir='LR', size='4,4'), "
               "node_attr=Block(shape='point'), nodes={'-1': "
               "Block(tooltip='FourVector(0, 0, 0, 0) mm\\nstatus = 0'), '-2': "
               "Block(tooltip='FourVector(0, 0, 0, 0) mm\\nstatus = 0'), '-3': "
               "Block(tooltip='FourVector(0, 0, 0, 0) mm\\nstatus = 0'), '-4': "
               "Block(tooltip='FourVector(0, 0, 0, 0) mm\\nstatus = 0'), '-5': "
               "Block(tooltip='FourVector(0, 0, 0, 0) mm\\nstatus = 0'), '-6': "
               "Block(tooltip='FourVector(0, 0, 0, 0) mm\\nstatus = 0'), '-7': "
               "Block(tooltip='FourVector(0, 0, 0, 0) mm\\nstatus = 0'), 'in_1': "
               "Block(style='invis'), 'in_2': Block(style='invis'), 'in_3': "
               "Block(style='invis'), 'in_4': Block(style='invis'), 'in_5': "
               "Block(style='invis'), 'out_5': Block(style='invis'), 'in_6': "
               "Block(style='invis'), 'in_7': Block(style='invis'), 'out_7': "
               "Block(style='invis'), 'out_8': Block(style='invis'), 'out_9': "
               "Block(style='invis'), 'out_10': Block(style='invis'), 'out_11': "
               "Block(style='invis'), 'out_12': Block(style='invis'), 'out_13': "
               "Block(style='invis'), 'out_15': Block(style='invis'), 'out_16': "
               "Block(style='invis'), 'out_17': Block(style='invis'), 'out_18': "
               "Block(style='invis'), 'out_19': Block(style='invis'), 'out_20': "
               "Block(style='invis'), 'out_22': Block(style='invis'), 'out_23': "
               "Block(style='invis')}, edges={'in_1 -> -1': Block(dir='forward', "
               "label='Δ(1232)⁺⁺ 2.4 GeV', color='red', style='solid', "
               "penwidth='1.2583770170972481', tooltip='PDGID = "
               "2224\\nFourVector(-0.0892, 0.135, 2.03, 2.38) GeV\\nm = 1.231 "
               "GeV\\nstatus = 2\\nquarks = uuu\\nQ = 2\\ncτ = 1.69e-12 mm', "
               "labeltooltip='PDGID = 2224\\nFourVector(-0.0892, 0.135, 2.03, 2.38) "
               "GeV\\nm = 1.231 GeV\\nstatus = 2\\nquarks = uuu\\nQ = 2\\ncτ = "
               "1.69e-12 mm'), 'in_2 -> -2': Block(dir='forward', label='π⁰ 3.5 GeV', "
               "color='red', style='dashed', penwidth='1.8225911115357487', "
               "tooltip='PDGID = 111\\nFourVector(0.0895, -0.449, 3.42, 3.45) GeV\\nm "
               "= 0.135 GeV\\nstatus = 2\\nquarks = (uU-dD)/sqrt(2)\\nQ = 0\\ncτ = "
               "2.53e-05 mm', labeltooltip='PDGID = 111\\nFourVector(0.0895, -0.449, "
               "3.42, 3.45) GeV\\nm = 0.135 GeV\\nstatus = 2\\nquarks = "
               "(uU-dD)/sqrt(2)\\nQ = 0\\ncτ = 2.53e-05 mm'), 'in_3 -> -3': "
               "Block(dir='forward', label=\"η'(958) 2.3 GeV\", color='red', "
               "style='dashed', penwidth='1.2180421843984166', tooltip='PDGID = "
               "331\\nFourVector(0.15, 0.46, 2.04, 2.31) GeV\\nm = 0.9575 GeV\\nstatus "
               "= 2\\nquarks = x(uU+dD)+y(sS)\\nQ = 0\\ncτ = 1.05e-09 mm', "
               "labeltooltip='PDGID = 331\\nFourVector(0.15, 0.46, 2.04, 2.31) GeV\\nm "
               "= 0.9575 GeV\\nstatus = 2\\nquarks = x(uU+dD)+y(sS)\\nQ = 0\\ncτ = "
               "1.05e-09 mm'), 'in_4 -> -4': Block(dir='forward', label='η 2.1 GeV', "
               "color='red', style='dashed', penwidth='1.082983605166498', "
               "tooltip='PDGID = 221\\nFourVector(-0.162, -0.244, 1.95, 2.05) GeV\\nm "
               "= 0.5488 GeV\\nstatus = 2\\nquarks = x(uU+dD)+y(sS)\\nQ = 0\\ncτ = "
               "1.51e-07 mm', labeltooltip='PDGID = 221\\nFourVector(-0.162, -0.244, "
               "1.95, 2.05) GeV\\nm = 0.5488 GeV\\nstatus = 2\\nquarks = "
               "x(uU+dD)+y(sS)\\nQ = 0\\ncτ = 1.51e-07 mm'), 'in_5 -> out_5': "
               "Block(dir='forward', label='π⁻ 0.3 GeV', color='red', style='solid', "
               "penwidth='0.5', tooltip='PDGID = -211\\nFourVector(-0.0529, 0.253, "
               "-0.0519, 0.299) GeV\\nm = 0.1396 GeV\\nstatus = 1\\nquarks = Ud\\nQ = "
               "-1\\ncτ = 7.8e+03 mm', labeltooltip='PDGID = "
               "-211\\nFourVector(-0.0529, 0.253, -0.0519, 0.299) GeV\\nm = 0.1396 "
               "GeV\\nstatus = 1\\nquarks = Ud\\nQ = -1\\ncτ = 7.8e+03 mm'), 'in_6 -> "
               "-5': Block(dir='forward', label='π⁰ 1.9 GeV', color='red', "
               "style='dashed', penwidth='1.0199502720723381', tooltip='PDGID = "
               "111\\nFourVector(-0.0249, 0.366, -1.89, 1.93) GeV\\nm = 0.135 "
               "GeV\\nstatus = 2\\nquarks = (uU-dD)/sqrt(2)\\nQ = 0\\ncτ = 2.53e-05 "
               "mm', labeltooltip='PDGID = 111\\nFourVector(-0.0249, 0.366, -1.89, "
               "1.93) GeV\\nm = 0.135 GeV\\nstatus = 2\\nquarks = (uU-dD)/sqrt(2)\\nQ "
               "= 0\\ncτ = 2.53e-05 mm'), 'in_7 -> out_7': Block(dir='forward', "
               "label='p 7.6 GeV', color='red', style='solid', penwidth='4.0', "
               "tooltip='PDGID = 2212\\nFourVector(0.0898, -0.521, -7.5, 7.58) GeV\\nm "
               "= 0.9383 GeV\\nstatus = 1\\nA,Z = 1,1\\nquarks = uud\\nQ = 1', "
               "labeltooltip='PDGID = 2212\\nFourVector(0.0898, -0.521, -7.5, 7.58) "
               "GeV\\nm = 0.9383 GeV\\nstatus = 1\\nA,Z = 1,1\\nquarks = uud\\nQ = "
               "1'), '-1 -> out_8': Block(dir='forward', label='p 1.5 GeV', "
               "color='red', style='solid', penwidth='0.7958558046189924', "
               "tooltip='PDGID = 2212\\nFourVector(-0.11, 0.0929, 1.17, 1.51) GeV\\nm "
               "= 0.9383 GeV\\nstatus = 1\\nA,Z = 1,1\\nquarks = uud\\nQ = 1', "
               "labeltooltip='PDGID = 2212\\nFourVector(-0.11, 0.0929, 1.17, 1.51) "
               "GeV\\nm = 0.9383 GeV\\nstatus = 1\\nA,Z = 1,1\\nquarks = uud\\nQ = "
               "1'), '-1 -> out_9': Block(dir='forward', label='π⁺ 0.88 GeV', "
               "color='red', style='solid', penwidth='0.5', tooltip='PDGID = "
               "211\\nFourVector(0.0211, 0.0421, 0.864, 0.876) GeV\\nm = 0.1396 "
               "GeV\\nstatus = 1\\nquarks = uD\\nQ = 1\\ncτ = 7.8e+03 mm', "
               "labeltooltip='PDGID = 211\\nFourVector(0.0211, 0.0421, 0.864, 0.876) "
               "GeV\\nm = 0.1396 GeV\\nstatus = 1\\nquarks = uD\\nQ = 1\\ncτ = 7.8e+03 "
               "mm'), '-2 -> out_10': Block(dir='forward', label='γ 2 GeV', "
               "color='goldenrod', style='dashed', penwidth='1.034614434215795', "
               "tooltip='PDGID = 22\\nFourVector(-0.0159, -0.26, 1.94, 1.96) GeV\\nm = "
               "0 GeV\\nstatus = 1\\nQ = 0', labeltooltip='PDGID = "
               "22\\nFourVector(-0.0159, -0.26, 1.94, 1.96) GeV\\nm = 0 GeV\\nstatus = "
               "1\\nQ = 0'), '-2 -> out_11': Block(dir='forward', label='γ 1.5 GeV', "
               "color='goldenrod', style='dashed', penwidth='0.7884767385609339', "
               "tooltip='PDGID = 22\\nFourVector(0.105, -0.189, 1.48, 1.49) GeV\\nm = "
               "0 GeV\\nstatus = 1\\nQ = 0', labeltooltip='PDGID = "
               "22\\nFourVector(0.105, -0.189, 1.48, 1.49) GeV\\nm = 0 GeV\\nstatus = "
               "1\\nQ = 0'), '-3 -> out_12': Block(dir='forward', label='π⁺ 0.28 GeV', "
               "color='red', style='solid', penwidth='0.5', tooltip='PDGID = "
               "211\\nFourVector(0.013, 0.0959, 0.226, 0.283) GeV\\nm = 0.1396 "
               "GeV\\nstatus = 1\\nquarks = uD\\nQ = 1\\ncτ = 7.8e+03 mm', "
               "labeltooltip='PDGID = 211\\nFourVector(0.013, 0.0959, 0.226, 0.283) "
               "GeV\\nm = 0.1396 GeV\\nstatus = 1\\nquarks = uD\\nQ = 1\\ncτ = 7.8e+03 "
               "mm'), '-3 -> out_13': Block(dir='forward', label='π⁻ 0.22 GeV', "
               "color='red', style='solid', penwidth='0.5', tooltip='PDGID = "
               "-211\\nFourVector(0.0956, 0.0602, 0.122, 0.218) GeV\\nm = 0.1396 "
               "GeV\\nstatus = 1\\nquarks = Ud\\nQ = -1\\ncτ = 7.8e+03 mm', "
               "labeltooltip='PDGID = -211\\nFourVector(0.0956, 0.0602, 0.122, 0.218) "
               "GeV\\nm = 0.1396 GeV\\nstatus = 1\\nquarks = Ud\\nQ = -1\\ncτ = "
               "7.8e+03 mm'), '-3 -> -6': Block(dir='none', label='η 1.8 GeV', "
               "color='red', style='dashed', penwidth='0.9534027892906205', "
               "tooltip='PDGID = 221\\nFourVector(0.0413, 0.304, 1.69, 1.81) GeV\\nm = "
               "0.5488 GeV\\nstatus = 2\\nquarks = x(uU+dD)+y(sS)\\nQ = 0\\ncτ = "
               "1.51e-07 mm', labeltooltip='PDGID = 221\\nFourVector(0.0413, 0.304, "
               "1.69, 1.81) GeV\\nm = 0.5488 GeV\\nstatus = 2\\nquarks = "
               "x(uU+dD)+y(sS)\\nQ = 0\\ncτ = 1.51e-07 mm'), '-4 -> out_15': "
               "Block(dir='forward', label='γ 1.5 GeV', color='goldenrod', "
               "style='dashed', penwidth='0.812918309567679', tooltip='PDGID = "
               "22\\nFourVector(-0.135, 0.0444, 1.53, 1.54) GeV\\nm = 0 GeV\\nstatus = "
               "1\\nQ = 0', labeltooltip='PDGID = 22\\nFourVector(-0.135, 0.0444, "
               "1.53, 1.54) GeV\\nm = 0 GeV\\nstatus = 1\\nQ = 0'), '-4 -> out_16': "
               "Block(dir='forward', label='γ 0.51 GeV', color='goldenrod', "
               "style='dashed', penwidth='0.5', tooltip='PDGID = "
               "22\\nFourVector(-0.027, -0.289, 0.421, 0.512) GeV\\nm = 0 GeV\\nstatus "
               "= 1\\nQ = 0', labeltooltip='PDGID = 22\\nFourVector(-0.027, -0.289, "
               "0.421, 0.512) GeV\\nm = 0 GeV\\nstatus = 1\\nQ = 0'), '-5 -> out_17': "
               "Block(dir='forward', label='γ 1.6 GeV', color='goldenrod', "
               "style='dashed', penwidth='0.8488918781368694', tooltip='PDGID = "
               "22\\nFourVector(-0.045, 0.262, -1.59, 1.61) GeV\\nm = 0 GeV\\nstatus = "
               "1\\nQ = 0', labeltooltip='PDGID = 22\\nFourVector(-0.045, 0.262, "
               "-1.59, 1.61) GeV\\nm = 0 GeV\\nstatus = 1\\nQ = 0'), '-5 -> out_18': "
               "Block(dir='forward', label='γ 0.32 GeV', color='goldenrod', "
               "style='dashed', penwidth='0.5', tooltip='PDGID = "
               "22\\nFourVector(0.0201, 0.104, -0.307, 0.325) GeV\\nm = 0 GeV\\nstatus "
               "= 1\\nQ = 0', labeltooltip='PDGID = 22\\nFourVector(0.0201, 0.104, "
               "-0.307, 0.325) GeV\\nm = 0 GeV\\nstatus = 1\\nQ = 0'), '-6 -> out_19': "
               "Block(dir='forward', label='π⁺ 0.36 GeV', color='red', style='solid', "
               "penwidth='0.5', tooltip='PDGID = 211\\nFourVector(0.0162, 0.112, "
               "0.307, 0.357) GeV\\nm = 0.1396 GeV\\nstatus = 1\\nquarks = uD\\nQ = "
               "1\\ncτ = 7.8e+03 mm', labeltooltip='PDGID = 211\\nFourVector(0.0162, "
               "0.112, 0.307, 0.357) GeV\\nm = 0.1396 GeV\\nstatus = 1\\nquarks = "
               "uD\\nQ = 1\\ncτ = 7.8e+03 mm'), '-6 -> out_20': Block(dir='forward', "
               "label='π⁻ 0.32 GeV', color='red', style='solid', penwidth='0.5', "
               "tooltip='PDGID = -211\\nFourVector(-0.0502, 0.0778, 0.268, 0.317) "
               "GeV\\nm = 0.1396 GeV\\nstatus = 1\\nquarks = Ud\\nQ = -1\\ncτ = "
               "7.8e+03 mm', labeltooltip='PDGID = -211\\nFourVector(-0.0502, 0.0778, "
               "0.268, 0.317) GeV\\nm = 0.1396 GeV\\nstatus = 1\\nquarks = Ud\\nQ = "
               "-1\\ncτ = 7.8e+03 mm'), '-6 -> -7': Block(dir='none', label='π⁰ 1.1 "
               "GeV', color='red', style='dashed', penwidth='0.5979158932868682', "
               "tooltip='PDGID = 111\\nFourVector(0.0753, 0.114, 1.11, 1.13) GeV\\nm = "
               "0.135 GeV\\nstatus = 2\\nquarks = (uU-dD)/sqrt(2)\\nQ = 0\\ncτ = "
               "2.53e-05 mm', labeltooltip='PDGID = 111\\nFourVector(0.0753, 0.114, "
               "1.11, 1.13) GeV\\nm = 0.135 GeV\\nstatus = 2\\nquarks = "
               "(uU-dD)/sqrt(2)\\nQ = 0\\ncτ = 2.53e-05 mm'), '-7 -> out_22': "
               "Block(dir='forward', label='γ 0.55 GeV', color='goldenrod', "
               "style='dashed', penwidth='0.5', tooltip='PDGID = "
               "22\\nFourVector(0.0689, -0.0035, 0.546, 0.551) GeV\\nm = 0 "
               "GeV\\nstatus = 1\\nQ = 0', labeltooltip='PDGID = "
               "22\\nFourVector(0.0689, -0.0035, 0.546, 0.551) GeV\\nm = 0 "
               "GeV\\nstatus = 1\\nQ = 0'), '-7 -> out_23': Block(dir='forward', "
               "label='γ 0.58 GeV', color='goldenrod', style='dashed', penwidth='0.5', "
               "tooltip='PDGID = 22\\nFourVector(0.00639, 0.118, 0.569, 0.582) GeV\\nm "
               "= 0 GeV\\nstatus = 1\\nQ = 0', labeltooltip='PDGID = "
               "22\\nFourVector(0.00639, 0.118, 0.569, 0.582) GeV\\nm = 0 GeV\\nstatus "
               "= 1\\nQ = 0')})"]
        },
        "execution_count" : 4,
        "metadata" : {},
        "output_type" : "execute_result"
      } ],
      "source" : [
        "from pyhepmc.view import to_dot\n", "\n",
        "# see help(pyhepmc.view.to_dot) for details\n",
        "g = to_dot(event, size=(4, 4), color_hadron=\"red\")\n", "g"
      ]
    },
    {
      "attachments" : {},
      "cell_type" : "markdown",
      "metadata" : {},
      "source" : ["You can also save these images like this. Many common formats are "
                  "supported, see docs."]
    },
    {
      "cell_type" : "code",
      "execution_count" : 5,
      "metadata" : {},
      "outputs" : [],
      "source" : [
        "from pyhepmc.view import savefig\n", "\n", "savefig(event, \"event.svg\")\n",
        "savefig(event, \"event.png\")\n", "savefig(event, \"event.pdf\")"
      ]
    },
    {
      "attachments" : {},
      "cell_type" : "markdown",
      "metadata" : {},
      "source" : ["Let's look at a few particles and vertices."]
    },
    {
      "cell_type" : "code",
      "execution_count" : 6,
      "metadata" : {},
      "outputs" : [ {
        "data" : {
          "text/plain" : [
            "[GenParticle(FourVector(-0.0892, 0.135, 2.03, 2.38), mass=1.231, "
            "pid=2224, status=2),\n",
            " GenParticle(FourVector(0.0895, -0.449, 3.42, 3.45), mass=0.13497, "
            "pid=111, status=2),\n",
            " GenParticle(FourVector(0.15, 0.46, 2.04, 2.31), mass=0.9575, pid=331, "
            "status=2),\n",
            " GenParticle(FourVector(-0.162, -0.244, 1.95, 2.05), mass=0.5488, "
            "pid=221, status=2),\n",
            " GenParticle(FourVector(-0.0529, 0.253, -0.0519, 0.299), mass=0.13957, "
            "pid=-211, status=1)]"
          ]
        },
        "execution_count" : 6,
        "metadata" : {},
        "output_type" : "execute_result"
      } ],
      "source" : [ "# first five particles in the record\n", "event.particles[:5]" ]
    },
    {
      "cell_type" : "code",
      "execution_count" : 7,
      "metadata" : {},
      "outputs" : [ {
        "data" : {
          "text/plain" : [
            "[GenParticle(FourVector(0.0956, 0.0602, 0.122, 0.218), mass=0.13957, "
            "pid=-211, status=1),\n",
            " GenParticle(FourVector(0.013, 0.0959, 0.226, 0.283), mass=0.13957, "
            "pid=211, status=1),\n",
            " GenParticle(FourVector(-0.0529, 0.253, -0.0519, 0.299), mass=0.13957, "
            "pid=-211, status=1),\n",
            " GenParticle(FourVector(-0.0502, 0.0778, 0.268, 0.317), mass=0.13957, "
            "pid=-211, status=1),\n",
            " GenParticle(FourVector(0.0201, 0.104, -0.307, 0.325), mass=0, pid=22, "
            "status=1),\n",
            " GenParticle(FourVector(0.0162, 0.112, 0.307, 0.357), mass=0.13957, "
            "pid=211, status=1),\n",
            " GenParticle(FourVector(-0.027, -0.289, 0.421, 0.512), mass=0, pid=22, "
            "status=1),\n",
            " GenParticle(FourVector(0.0689, -0.0035, 0.546, 0.551), mass=0, pid=22, "
            "status=1),\n",
            " GenParticle(FourVector(0.00639, 0.118, 0.569, 0.582), mass=0, pid=22, "
            "status=1),\n",
            " GenParticle(FourVector(0.0211, 0.0421, 0.864, 0.876), mass=0.13957, "
            "pid=211, status=1),\n",
            " GenParticle(FourVector(0.105, -0.189, 1.48, 1.49), mass=0, pid=22, "
            "status=1),\n",
            " GenParticle(FourVector(-0.11, 0.0929, 1.17, 1.51), mass=0.93827, "
            "pid=2212, status=1),\n",
            " GenParticle(FourVector(-0.135, 0.0444, 1.53, 1.54), mass=0, pid=22, "
            "status=1),\n",
            " GenParticle(FourVector(-0.045, 0.262, -1.59, 1.61), mass=0, pid=22, "
            "status=1),\n",
            " GenParticle(FourVector(-0.0159, -0.26, 1.94, 1.96), mass=0, pid=22, "
            "status=1),\n",
            " GenParticle(FourVector(0.0898, -0.521, -7.5, 7.58), mass=0.93827, "
            "pid=2212, status=1)]"
          ]
        },
        "execution_count" : 7,
        "metadata" : {},
        "output_type" : "execute_result"
      } ],
      "source" : [
        "# final state particles sorted by energy\n",
        "[p for p in sorted(event.particles, key=lambda p:p.momentum.e) if p.status == "
        "1]"
      ]
    },
    {
      "cell_type" : "markdown",
      "metadata" : {},
      "source" : ["All particles which produce photons."]
    },
    {
      "cell_type" : "code",
      "execution_count" : 8,
      "metadata" : {},
      "outputs" : [ {
        "data" : {
          "text/plain" : [
            "[GenParticle(FourVector(0.0895, -0.449, 3.42, 3.45), mass=0.13497, "
            "pid=111, status=2),\n",
            " GenParticle(FourVector(-0.162, -0.244, 1.95, 2.05), mass=0.5488, "
            "pid=221, status=2),\n",
            " GenParticle(FourVector(-0.0249, 0.366, -1.89, 1.93), mass=0.13497, "
            "pid=111, status=2),\n",
            " GenParticle(FourVector(0.0753, 0.114, 1.11, 1.13), mass=0.13497, "
            "pid=111, status=2)]"
          ]
        },
        "execution_count" : 8,
        "metadata" : {},
        "output_type" : "execute_result"
      } ],
      "source" : [
        "def has_photon_children(p):\n",
        "    return any(q.pid == 22 for q in p.children)\n", "\n",
        "[p for p in event.particles if has_photon_children(p)]"
      ]
    },
    {
      "attachments" : {},
      "cell_type" : "markdown",
      "metadata" : {},
      "source" : [
        "This event has no attached metadata. HepMC3 supports metadata attached to "
        "individual particles and vertices, events, and the whole run. We use this to "
        "add information about the generator, Pythia-6.4.28. We add this information "
        "to GenRunInfo and mark all vertices that have photon children as "
        "\"sparkly\".\n",
        "\n", "Then, we save the modified event."
      ]
    },
    {
      "cell_type" : "code",
      "execution_count" : 9,
      "metadata" : {},
      "outputs" : [ {
        "data" : {
          "text/plain" : ["GenRunInfo(tools=[ToolInfo(name='SIBYLL', version='2.1', "
                          "description='')], weight_names=[], attributes={})"]
        },
        "execution_count" : 9,
        "metadata" : {},
        "output_type" : "execute_result"
      } ],
      "source" : [ "# run info is empty\n", "event.run_info" ]
    },
    {
      "cell_type" : "code",
      "execution_count" : 10,
      "metadata" : {},
      "outputs" : [],
      "source" : [
        "event.run_info.tools = [\n",
        "    pyhepmc.GenRunInfo.ToolInfo(\"Pythia\", \"6.4.28\", \"Legacy Pythia 6 "
        "event\")\n",
        "]\n", "\n", "# this equivalent shortcut is also supported:\n",
        "# event.run_info.tools = [(\"Pythia\", \"6.4.28\", \"Legacy Pythia 6 "
        "event\")]\n",
        "\n", "for v in event.vertices:\n",
        "    if any(q.pid == 22 for q in v.particles_out):\n",
        "        v.attributes[\"sparkly\"] = True"
      ]
    },
    {
      "cell_type" : "code",
      "execution_count" : 11,
      "metadata" : {},
      "outputs" : [],
      "source" : [
        "# save event with reduced precision\n",
        "with pyhepmc.open(\"modified_event.dat\", \"w\", precision=3) as f:\n",
        "    f.write(event)"
      ]
    },
    {
      "cell_type" : "markdown",
      "metadata" : {},
      "source" : ["The HepMC3 format is human-readable ASCII."]
    },
    {
      "cell_type" : "code",
      "execution_count" : 12,
      "metadata" : {},
      "outputs" : [ {
        "name" : "stdout",
        "output_type" : "stream",
        "text" : [
          "HepMC::Version 3.02.05\n",
          "HepMC::Asciiv3-START_EVENT_LISTING\n",
          "T Pythia\\|6.4.28\\|Legacy Pythia 6 event\n",
          "E 0 7 23\n",
          "U GEV MM\n",
          "A -7 sparkly 1\n",
          "A -5 sparkly 1\n",
          "A -4 sparkly 1\n",
          "A -2 sparkly 1\n",
          "P 1 0 2224 -8.921e-02 1.349e-01 2.034e+00 2.383e+00 1.231e+00 2\n",
          "P 2 0 111 8.946e-02 -4.486e-01 3.418e+00 3.452e+00 1.350e-01 2\n",
          "P 3 0 331 1.499e-01 4.600e-01 2.036e+00 2.307e+00 9.575e-01 2\n",
          "P 4 0 221 -1.621e-01 -2.442e-01 1.955e+00 2.051e+00 5.488e-01 2\n",
          "P 5 0 -211 -5.295e-02 2.535e-01 -5.190e-02 2.987e-01 1.396e-01 1\n",
          "P 6 0 111 -2.490e-02 3.658e-01 -1.892e+00 1.932e+00 1.350e-01 2\n",
          "P 7 0 2212 8.976e-02 -5.213e-01 -7.499e+00 7.576e+00 9.383e-01 1\n",
          "P 8 1 2212 -1.103e-01 9.285e-02 1.171e+00 1.507e+00 9.383e-01 1\n",
          "P 9 1 211 2.107e-02 4.207e-02 8.636e-01 8.760e-01 1.396e-01 1\n",
          "P 10 2 22 -1.591e-02 -2.596e-01 1.942e+00 1.960e+00 0.000e+00 1\n",
          "P 11 2 22 1.054e-01 -1.892e-01 1.477e+00 1.493e+00 0.000e+00 1\n",
          "P 12 3 211 1.301e-02 9.594e-02 2.256e-01 2.833e-01 1.396e-01 1\n",
          "P 13 3 -211 9.560e-02 6.017e-02 1.217e-01 2.180e-01 1.396e-01 1\n",
          "P 14 3 221 4.130e-02 3.039e-01 1.689e+00 1.806e+00 5.488e-01 2\n",
          "P 15 4 22 -1.351e-01 4.437e-02 1.533e+00 1.540e+00 0.000e+00 1\n",
          "P 16 4 22 -2.698e-02 -2.886e-01 4.215e-01 5.115e-01 0.000e+00 1\n",
          "P 17 6 22 -4.505e-02 2.616e-01 -1.586e+00 1.608e+00 0.000e+00 1\n",
          "P 18 6 22 2.014e-02 1.042e-01 -3.067e-01 3.245e-01 0.000e+00 1\n",
          "P 19 14 211 1.624e-02 1.118e-01 3.071e-01 3.567e-01 1.396e-01 1\n",
          "P 20 14 -211 -5.020e-02 7.775e-02 2.676e-01 3.167e-01 1.396e-01 1\n",
          "P 21 14 111 7.526e-02 1.144e-01 1.114e+00 1.132e+00 1.350e-01 2\n",
          "P 22 21 22 6.889e-02 -3.499e-03 5.456e-01 5.509e-01 0.000e+00 1\n",
          "P 23 21 22 6.393e-03 1.179e-01 5.686e-01 5.818e-01 0.000e+00 1\n",
          "HepMC::Asciiv3-END_EVENT_LISTING\n"
        ]
      } ],
      "source" :
          [ "with open(\"modified_event.dat\") as f:\n",
            "    print(f.read().strip())" ]
    },
    {
      "attachments" : {},
      "cell_type" : "markdown",
      "metadata" : {},
      "source" : [
        "## HepMC2 support\n", "\n",
        "The HepMC3 format is used by default, but some programs still expects HepMC2 "
        "format. `pyhepmc.open` detects the format automatically when reading data. If "
        "you want to write in HepMC2, you can specify that with the `format` argument."
      ]
    },
    {
      "cell_type" : "code",
      "execution_count" : 13,
      "metadata" : {},
      "outputs" : [ {
        "name" : "stdout",
        "output_type" : "stream",
        "text" : [
          "HepMC::Version 3.02.05\n",
          "HepMC::IO_GenEvent-START_EVENT_LISTING\n",
          "E 0 0 0.000000e+00 0.000000e+00 0.000000e+00 0 0 7 10000 10000 0 0\n",
          "U GEV MM\n",
          "V -1 0 0 0 0 0 1 2 0\n",
          "P 10001 2224 -8.921e-02 1.349e-01 2.034e+00 2.383e+00 1.231e+00 2 0 0 -1 "
          "0\n",
          "P 10002 2212 -1.103e-01 9.285e-02 1.171e+00 1.507e+00 9.383e-01 1 0 0 0 0\n",
          "P 10003 211 2.107e-02 4.207e-02 8.636e-01 8.760e-01 1.396e-01 1 0 0 0 0\n",
          "V -2 0 0 0 0 0 1 2 0\n",
          "P 10004 111 8.946e-02 -4.486e-01 3.418e+00 3.452e+00 1.350e-01 2 0 0 -2 0\n",
          "P 10005 22 -1.591e-02 -2.596e-01 1.942e+00 1.960e+00 0.000e+00 1 0 0 0 0\n",
          "P 10006 22 1.054e-01 -1.892e-01 1.477e+00 1.493e+00 0.000e+00 1 0 0 0 0\n",
          "V -3 0 0 0 0 0 1 3 0\n",
          "P 10007 331 1.499e-01 4.600e-01 2.036e+00 2.307e+00 9.575e-01 2 0 0 -3 0\n",
          "P 10008 211 1.301e-02 9.594e-02 2.256e-01 2.833e-01 1.396e-01 1 0 0 0 0\n",
          "P 10009 -211 9.560e-02 6.017e-02 1.217e-01 2.180e-01 1.396e-01 1 0 0 0 0\n",
          "P 10010 221 4.130e-02 3.039e-01 1.689e+00 1.806e+00 5.488e-01 2 0 0 -6 0\n",
          "V -4 0 0 0 0 0 1 2 0\n",
          "P 10011 221 -1.621e-01 -2.442e-01 1.955e+00 2.051e+00 5.488e-01 2 0 0 -4 "
          "0\n",
          "P 10012 22 -1.351e-01 4.437e-02 1.533e+00 1.540e+00 0.000e+00 1 0 0 0 0\n",
          "P 10013 22 -2.698e-02 -2.886e-01 4.215e-01 5.115e-01 0.000e+00 1 0 0 0 0\n",
          "V -5 0 0 0 0 0 1 2 0\n",
          "P 10014 111 -2.490e-02 3.658e-01 -1.892e+00 1.932e+00 1.350e-01 2 0 0 -5 "
          "0\n",
          "P 10015 22 -4.505e-02 2.616e-01 -1.586e+00 1.608e+00 0.000e+00 1 0 0 0 0\n",
          "P 10016 22 2.014e-02 1.042e-01 -3.067e-01 3.245e-01 0.000e+00 1 0 0 0 0\n",
          "V -6 0 0 0 0 0 0 3 0\n",
          "P 10017 211 1.624e-02 1.118e-01 3.071e-01 3.567e-01 1.396e-01 1 0 0 0 0\n",
          "P 10018 -211 -5.020e-02 7.775e-02 2.676e-01 3.167e-01 1.396e-01 1 0 0 0 0\n",
          "P 10019 111 7.526e-02 1.144e-01 1.114e+00 1.132e+00 1.350e-01 2 0 0 -7 0\n",
          "V -7 0 0 0 0 0 0 2 0\n",
          "P 10020 22 6.889e-02 -3.499e-03 5.456e-01 5.509e-01 0.000e+00 1 0 0 0 0\n",
          "P 10021 22 6.393e-03 1.179e-01 5.686e-01 5.818e-01 0.000e+00 1 0 0 0 0\n",
          "HepMC::IO_GenEvent-END_EVENT_LISTING\n",
          "\n",
          "\n"
        ]
      } ],
      "source" : [
        "# save event with reduced precision\n",
        "with pyhepmc.open(\"modified_event.hepmc2\", \"w\", format=\"hepmc2\", "
        "precision=3) as f:\n",
        "    f.write(event)\n", "\n", "with open(\"modified_event.hepmc2\") as f:\n",
        "    print(f.read())"
      ]
    },
    {
      "attachments" : {},
      "cell_type" : "markdown",
      "metadata" : {},
      "source" : [
        "## Using attributes\n", "\n",
        "**Gotcha**: If you deserialize attributes, you need to cast them to the right "
        "types yourself, because the HepMC3 C++ library does not store the type "
        "information. This is a limitation of the current HepMC3 format, not a "
        "limitation in pyhepmc. We try to work around this issue as good as possible, "
        "but a fix would require a change to HepMC3 that was rejected by the HepMC3 "
        "developers."
      ]
    },
    {
      "cell_type" : "code",
      "execution_count" : 14,
      "metadata" : {},
      "outputs" : [ {
        "name" : "stdout",
        "output_type" : "stream",
        "text" : [
          "<AttributesView>{'sparkly': <UnparsedAttribute '1'>}\n",
          "<AttributesView>{'sparkly': <UnparsedAttribute '1'>}\n",
          "<AttributesView>{'sparkly': <UnparsedAttribute '1'>}\n",
          "<AttributesView>{'sparkly': <UnparsedAttribute '1'>}\n"
        ]
      } ],
      "source" : [
        "with pyhepmc.open(\"modified_event.dat\") as f:\n", "    event = f.read()\n",
        "\n", "for v in event.vertices:\n", "    if v.attributes:\n",
        "        print(v.attributes)"
      ]
    },
    {
      "attachments" : {},
      "cell_type" : "markdown",
      "metadata" : {},
      "source" : ["As you can see, the deserialized attribute is restored as a "
                  "`UnparsedAttribute`. To turn it into a boolean, call its `.astype` "
                  "method. The method name should remind you of numpy."]
    },
    {
      "cell_type" : "code",
      "execution_count" : 15,
      "metadata" : {},
      "outputs" : [ {
        "name" : "stdout",
        "output_type" : "stream",
        "text" : [
          "key: sparkly, value: True\n", "key: sparkly, value: True\n",
          "key: sparkly, value: True\n", "key: sparkly, value: True\n"
        ]
      } ],
      "source" : [
        "# you need to remember what name corresponds to what type;\n",
        "# sparkly was a boolean\n", "key = \"sparkly\"\n",
        "for v in event.vertices:\n", "    if key in v.attributes:\n",
        "        val = v.attributes[key]\n", "        b = val.astype(bool)\n",
        "        print(f\"key: {key}, value: {b}\")"
      ]
    },
    {
      "attachments" : {},
      "cell_type" : "markdown",
      "metadata" : {},
      "source" : ["You only have to do this once (although it does not hurt to do it "
                  "more than once), since `.astype` also replaces the "
                  "`UnparsedAttribute` with the typed attribute as a side effect. Next "
                  "time you iterate over the attributes, they appear normally."]
    },
    {
      "cell_type" : "code",
      "execution_count" : 16,
      "metadata" : {},
      "outputs" : [ {
        "name" : "stdout",
        "output_type" : "stream",
        "text" : [
          "<AttributesView>{'sparkly': True}\n", "<AttributesView>{'sparkly': True}\n",
          "<AttributesView>{'sparkly': True}\n", "<AttributesView>{'sparkly': True}\n"
        ]
      } ],
      "source" : [
        "for v in event.vertices:\n", "    if v.attributes:\n",
        "        print(v.attributes)"
      ]
    }
  ],
  "metadata" : {
    "kernelspec" :
        {"display_name" : "Python 3", "language" : "python", "name" : "python3"},
    "language_info" : {
      "codemirror_mode" : {"name" : "ipython", "version" : 3},
      "file_extension" : ".py",
      "mimetype" : "text/x-python",
      "name" : "python",
      "nbconvert_exporter" : "python",
      "pygments_lexer" : "ipython3",
      "version" : "3.11.10"
    },
    "orig_nbformat" : 4
  },
  "nbformat" : 4,
  "nbformat_minor" : 2
}
